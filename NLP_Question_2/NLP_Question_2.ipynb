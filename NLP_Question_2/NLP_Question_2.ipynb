{
 "cells": [
  {
   "cell_type": "markdown",
   "id": "c44dcf12",
   "metadata": {},
   "source": [
    "# NLP Question-2"
   ]
  },
  {
   "cell_type": "markdown",
   "id": "124a31c9",
   "metadata": {},
   "source": [
    "### Q2.Take any pdf and your task is to extract the text from that pdf and store it in a csv file and then you need to find the most repeated word in that pdf."
   ]
  },
  {
   "cell_type": "markdown",
   "id": "72cdd17e",
   "metadata": {},
   "source": [
    "Ans 2. To extract text from a PDF file and store it in a CSV file using Python, you can use the PyPDF2 library. Here's an example code that demonstrates how to do this and find the most repeated word in the PDF:"
   ]
  },
  {
   "cell_type": "code",
   "execution_count": 1,
   "id": "d72845b2",
   "metadata": {},
   "outputs": [
    {
     "name": "stdout",
     "output_type": "stream",
     "text": [
      "Most repeated word: the\n"
     ]
    }
   ],
   "source": [
    "import csv\n",
    "import PyPDF2\n",
    "import pandas as pd\n",
    "from collections import Counter\n",
    "\n",
    "# Open the PDF file\n",
    "pdf_file_path = 'path_to_your_pdf_file.pdf'\n",
    "pdf_file = open('Data Science.pdf', 'rb')\n",
    "\n",
    "# Create a PDF reader object\n",
    "pdf_reader = PyPDF2.PdfReader(pdf_file)\n",
    "\n",
    "# Extract text from each page of the PDF\n",
    "text = ''\n",
    "for page in pdf_reader.pages:\n",
    "    text += page.extract_text()\n",
    "\n",
    "# Close the PDF file\n",
    "pdf_file.close()\n",
    "\n",
    "# Tokenize the text into words\n",
    "words = text.split()\n",
    "\n",
    "# Count the frequency of each word\n",
    "word_counts = Counter(words)\n",
    "\n",
    "# Get the most repeated word\n",
    "most_common_word = word_counts.most_common(1)[0][0]\n",
    "\n",
    "# Write the text and word counts to a CSV file\n",
    "output_file = 'pdf_text_with_word_counts.csv'\n",
    "with open(output_file, 'w', newline='', encoding='utf-8') as csvfile:\n",
    "    writer = csv.writer(csvfile)\n",
    "    writer.writerow(['Word', 'Count'])\n",
    "    for word, count in word_counts.items():\n",
    "        writer.writerow([word, count])\n",
    "\n",
    "# Print the most repeated word\n",
    "print('Most repeated word:', most_common_word)\n"
   ]
  },
  {
   "cell_type": "code",
   "execution_count": null,
   "id": "d6b7ac76",
   "metadata": {},
   "outputs": [],
   "source": []
  }
 ],
 "metadata": {
  "kernelspec": {
   "display_name": "Python 3 (ipykernel)",
   "language": "python",
   "name": "python3"
  },
  "language_info": {
   "codemirror_mode": {
    "name": "ipython",
    "version": 3
   },
   "file_extension": ".py",
   "mimetype": "text/x-python",
   "name": "python",
   "nbconvert_exporter": "python",
   "pygments_lexer": "ipython3",
   "version": "3.10.9"
  }
 },
 "nbformat": 4,
 "nbformat_minor": 5
}
